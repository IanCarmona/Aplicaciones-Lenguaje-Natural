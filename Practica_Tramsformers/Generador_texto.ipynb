{
 "cells": [
  {
   "cell_type": "code",
   "execution_count": 1,
   "metadata": {},
   "outputs": [
    {
     "name": "stdout",
     "output_type": "stream",
     "text": [
      "WARNING:tensorflow:From c:\\Python311\\Lib\\site-packages\\keras\\src\\losses.py:2976: The name tf.losses.sparse_softmax_cross_entropy is deprecated. Please use tf.compat.v1.losses.sparse_softmax_cross_entropy instead.\n",
      "\n"
     ]
    },
    {
     "name": "stderr",
     "output_type": "stream",
     "text": [
      "Truncation was not explicitly activated but `max_length` is provided a specific value, please use `truncation=True` to explicitly truncate examples to max length. Defaulting to 'longest_first' truncation strategy. If you encode pairs of sequences (GLUE-style) with the tokenizer you can select this strategy more precisely by providing a specific strategy to `truncation`.\n",
      "Setting `pad_token_id` to `eos_token_id`:50256 for open-end generation.\n",
      "Setting `pad_token_id` to `eos_token_id`:50256 for open-end generation.\n"
     ]
    }
   ],
   "source": [
    "import tkinter as tk\n",
    "from tkinter import filedialog\n",
    "from transformers import pipeline\n",
    "\n",
    "# Cargar el modelo de generación de texto\n",
    "generator = pipeline('text-generation', model='gpt2')\n",
    "\n",
    "# Función para generar historias\n",
    "def generar_historia(inicio, max_length, num_return_sequences):\n",
    "    historias = generator(inicio, max_length=max_length, num_return_sequences=num_return_sequences)\n",
    "    return [historia['generated_text'] for historia in historias]\n",
    "\n",
    "# Función para manejar la generación de historias desde la interfaz gráfica\n",
    "def generar():\n",
    "    inicio = entrada_inicio.get(\"1.0\", tk.END).strip()\n",
    "    max_length = int(longitud_entrada.get())\n",
    "    num_return_sequences = int(numero_variaciones.get())\n",
    "    historias = generar_historia(inicio, max_length, num_return_sequences)\n",
    "    resultado_texto.delete(\"1.0\", tk.END)\n",
    "    for i, historia in enumerate(historias, 1):\n",
    "        resultado_texto.insert(tk.END, f\"Historia {i}:\\n{historia}\\n\\n\")\n",
    "\n",
    "# Función para guardar la historia en un archivo\n",
    "def guardar():\n",
    "    historias = resultado_texto.get(\"1.0\", tk.END).strip()\n",
    "    archivo = filedialog.asksaveasfile(defaultextension=\".txt\", filetypes=[(\"Text files\", \"*.txt\")])\n",
    "    if archivo is not None:\n",
    "        archivo.write(historias)\n",
    "        archivo.close()\n",
    "\n",
    "# Crear la interfaz gráfica\n",
    "ventana = tk.Tk()\n",
    "ventana.title(\"Generador de Historias\")\n",
    "\n",
    "# Crear y colocar los elementos de la interfaz\n",
    "tk.Label(ventana, text=\"Inicio de la historia:\").pack()\n",
    "entrada_inicio = tk.Text(ventana, height=5, width=50)\n",
    "entrada_inicio.pack()\n",
    "\n",
    "tk.Label(ventana, text=\"Longitud máxima:\").pack()\n",
    "longitud_entrada = tk.Entry(ventana)\n",
    "longitud_entrada.pack()\n",
    "longitud_entrada.insert(tk.END, \"200\")\n",
    "\n",
    "tk.Label(ventana, text=\"Número de variaciones:\").pack()\n",
    "numero_variaciones = tk.Entry(ventana)\n",
    "numero_variaciones.pack()\n",
    "numero_variaciones.insert(tk.END, \"1\")\n",
    "\n",
    "tk.Button(ventana, text=\"Generar Historia\", command=generar).pack()\n",
    "resultado_texto = tk.Text(ventana, height=15, width=50)\n",
    "resultado_texto.pack()\n",
    "\n",
    "tk.Button(ventana, text=\"Guardar Historia\", command=guardar).pack()\n",
    "\n",
    "# Ejecutar la interfaz gráfica\n",
    "ventana.mainloop()\n"
   ]
  },
  {
   "cell_type": "code",
   "execution_count": null,
   "metadata": {},
   "outputs": [],
   "source": []
  }
 ],
 "metadata": {
  "kernelspec": {
   "display_name": "Python 3",
   "language": "python",
   "name": "python3"
  },
  "language_info": {
   "codemirror_mode": {
    "name": "ipython",
    "version": 3
   },
   "file_extension": ".py",
   "mimetype": "text/x-python",
   "name": "python",
   "nbconvert_exporter": "python",
   "pygments_lexer": "ipython3",
   "version": "3.11.0"
  }
 },
 "nbformat": 4,
 "nbformat_minor": 2
}
