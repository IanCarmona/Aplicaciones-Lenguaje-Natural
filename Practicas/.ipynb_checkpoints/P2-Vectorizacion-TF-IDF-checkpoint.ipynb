{
 "cells": [
  {
   "cell_type": "markdown",
   "id": "4de1fbd4-16ee-4b24-9e79-7583df3a120b",
   "metadata": {},
   "source": [
    "## Practica 2 \n",
    "    *Vectorizacion TF-IDF\n",
    "    *Matriz Termino/Documento\n"
   ]
  },
  {
   "cell_type": "code",
   "execution_count": null,
   "id": "b7575e31-a83d-4ec6-b90b-a92daf88e5ed",
   "metadata": {},
   "outputs": [],
   "source": []
  }
 ],
 "metadata": {
  "kernelspec": {
   "display_name": "Python 3 (ipykernel)",
   "language": "python",
   "name": "python3"
  },
  "language_info": {
   "codemirror_mode": {
    "name": "ipython",
    "version": 3
   },
   "file_extension": ".py",
   "mimetype": "text/x-python",
   "name": "python",
   "nbconvert_exporter": "python",
   "pygments_lexer": "ipython3",
   "version": "3.11.5"
  }
 },
 "nbformat": 4,
 "nbformat_minor": 5
}
