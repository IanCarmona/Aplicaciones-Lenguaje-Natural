{
 "cells": [
  {
   "cell_type": "markdown",
   "id": "4de1fbd4-16ee-4b24-9e79-7583df3a120b",
   "metadata": {},
   "source": [
    "## Practica 2 \n",
    "    *Vectorizacion TF-IDF\n",
    "    *Matriz Termino/Documento\n"
   ]
  },
  {
   "cell_type": "code",
   "execution_count": 9,
   "id": "b7575e31-a83d-4ec6-b90b-a92daf88e5ed",
   "metadata": {},
   "outputs": [],
   "source": [
    "import pandas as pd\n",
    "from sklearn.feature_extraction.text import TfidfVectorizer"
   ]
  },
  {
   "cell_type": "markdown",
   "id": "4219bc43",
   "metadata": {},
   "source": [
    "#### Cargamos nuestro csv normalizado"
   ]
  },
  {
   "cell_type": "code",
   "execution_count": 10,
   "metadata": {},
   "outputs": [
    {
     "data": {
      "text/plain": [
       "0                       terminar bien abrumar despues \n",
       "1                                       sentir abrumar\n",
       "2    sentir abrumar cantidad cosa querer dibujar ju...\n",
       "3    salvador unicar persona abrumar versión nadiec...\n",
       "4                        denmir helado ar full abrumar\n",
       "Name: text, dtype: object"
      ]
     },
     "execution_count": 10,
     "metadata": {},
     "output_type": "execute_result"
    }
   ],
   "source": [
    "archivo_normalizado = pd.read_csv(\"./datasets/sentiment_analysis_dataset_modificado.csv\")\n",
    "archivo_normalizado = archivo_normalizado['text']\n",
    "archivo_normalizado.head()"
   ]
  },
  {
   "cell_type": "markdown",
   "id": "0f3bbf9f",
   "metadata": {},
   "source": [
    "#### Creamos la matriz termino documento con TF-IDF"
   ]
  },
  {
   "cell_type": "code",
   "execution_count": 13,
   "id": "7b684262",
   "metadata": {},
   "outputs": [],
   "source": [
    "tfidf_vectorizer = TfidfVectorizer()\n",
    "tfidf_matrix = tfidf_vectorizer.fit_transform(archivo_normalizado)"
   ]
  },
  {
   "cell_type": "markdown",
   "id": "5be96a75",
   "metadata": {},
   "source": [
    "#### Guardamos la matriz en un csv llamado \"matris-termono-documento-tfidf.csv\""
   ]
  },
  {
   "cell_type": "code",
   "execution_count": 14,
   "id": "dd988e6d",
   "metadata": {},
   "outputs": [],
   "source": [
    "tfidf_df = pd.DataFrame(tfidf_matrix.toarray(), columns=tfidf_vectorizer.get_feature_names_out())\n",
    "tfidf_df.to_csv('./datasets/matriz-termino-documento-tfidf.csv', index=False)"
   ]
  },
  {
   "cell_type": "markdown",
   "id": "ef82ab32",
   "metadata": {},
   "source": [
    "#### Mostramos las primeras 10 filas y 10 columnas"
   ]
  },
  {
   "cell_type": "code",
   "execution_count": 33,
   "id": "dbea1c2b",
   "metadata": {},
   "outputs": [
    {
     "name": "stdout",
     "output_type": "stream",
     "text": [
      "     agresion  agrio  agua  aguantar  aguilar  aguinaldo  agus  agustin  \\\n",
      "100       0.0    0.0   0.0       0.0      0.0        0.0   0.0      0.0   \n",
      "101       0.0    0.0   0.0       0.0      0.0        0.0   0.0      0.0   \n",
      "102       0.0    0.0   0.0       0.0      0.0        0.0   0.0      0.0   \n",
      "103       0.0    0.0   0.0       0.0      0.0        0.0   0.0      0.0   \n",
      "104       0.0    0.0   0.0       0.0      0.0        0.0   0.0      0.0   \n",
      "105       0.0    0.0   0.0       0.0      0.0        0.0   0.0      0.0   \n",
      "106       0.0    0.0   0.0       0.0      0.0        0.0   0.0      0.0   \n",
      "107       0.0    0.0   0.0       0.0      0.0        0.0   0.0      0.0   \n",
      "108       0.0    0.0   0.0       0.0      0.0        0.0   0.0      0.0   \n",
      "109       0.0    0.0   0.0       0.0      0.0        0.0   0.0      0.0   \n",
      "\n",
      "        ahora  ahorita  \n",
      "100  0.000000      0.0  \n",
      "101  0.000000      0.0  \n",
      "102  0.000000      0.0  \n",
      "103  0.269978      0.0  \n",
      "104  0.000000      0.0  \n",
      "105  0.000000      0.0  \n",
      "106  0.000000      0.0  \n",
      "107  0.000000      0.0  \n",
      "108  0.000000      0.0  \n",
      "109  0.000000      0.0  \n"
     ]
    }
   ],
   "source": [
    "print(tfidf_df.iloc[100:110, 250:260])"
   ]
  },
  {
   "cell_type": "code",
   "execution_count": null,
   "id": "0fbd84d9",
   "metadata": {},
   "outputs": [],
   "source": []
  }
 ],
 "metadata": {
  "kernelspec": {
   "display_name": "Python 3 (ipykernel)",
   "language": "python",
   "name": "python3"
  },
  "language_info": {
   "codemirror_mode": {
    "name": "ipython",
    "version": 3
   },
   "file_extension": ".py",
   "mimetype": "text/x-python",
   "name": "python",
   "nbconvert_exporter": "python",
   "pygments_lexer": "ipython3",
   "version": "3.11.5"
  }
 },
 "nbformat": 4,
 "nbformat_minor": 5
}
