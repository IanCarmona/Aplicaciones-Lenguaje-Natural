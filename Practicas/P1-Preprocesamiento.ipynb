{
 "cells": [
  {
   "cell_type": "markdown",
   "id": "9876bfac",
   "metadata": {},
   "source": [
    "### P1-Preprocesamiento\n",
    "\n",
    "    *Tokenizacion\n",
    "    *Eliminacion de signos de puntuacion\n",
    "    *Eliminacion de Stopwords\n",
    "    *Lematizacion\n",
    "    *Stemming\n",
    "    *Normalizar (minusculas)\n",
    "    *Bag of Words\n",
    "    "
   ]
  },
  {
   "cell_type": "code",
   "execution_count": null,
   "id": "fb265a63",
   "metadata": {},
   "outputs": [],
   "source": []
  }
 ],
 "metadata": {
  "kernelspec": {
   "display_name": "Python 3 (ipykernel)",
   "language": "python",
   "name": "python3"
  },
  "language_info": {
   "codemirror_mode": {
    "name": "ipython",
    "version": 3
   },
   "file_extension": ".py",
   "mimetype": "text/x-python",
   "name": "python",
   "nbconvert_exporter": "python",
   "pygments_lexer": "ipython3",
   "version": "3.11.5"
  }
 },
 "nbformat": 4,
 "nbformat_minor": 5
}
