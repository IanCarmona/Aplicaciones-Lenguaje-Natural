{
 "cells": [
  {
   "cell_type": "markdown",
   "id": "9876bfac",
   "metadata": {},
   "source": [
    "### P1-Preprocesamiento\n",
    "\n",
    "    *Tokenizacion \n",
    "    *Eliminacion de signos de puntuacion\n",
    "    *Eliminacion de Stopwords\n",
    "    *Lematizacion\n",
    "    *Stemming\n",
    "    *Normalizar (minusculas)\n",
    "    *Bag of Words\n",
    "    "
   ]
  },
  {
   "cell_type": "markdown",
   "id": "a08afb43",
   "metadata": {},
   "source": [
    "#### Importamos las librerias a utilizar "
   ]
  },
  {
   "cell_type": "code",
   "execution_count": 1,
   "id": "30e40645",
   "metadata": {},
   "outputs": [
    {
     "name": "stderr",
     "output_type": "stream",
     "text": [
      "[nltk_data] Downloading package omw-1.4 to\n",
      "[nltk_data]     C:\\Users\\ianca\\AppData\\Roaming\\nltk_data...\n",
      "[nltk_data]   Package omw-1.4 is already up-to-date!\n",
      "[nltk_data] Downloading package wordnet to\n",
      "[nltk_data]     C:\\Users\\ianca\\AppData\\Roaming\\nltk_data...\n",
      "[nltk_data]   Package wordnet is already up-to-date!\n"
     ]
    }
   ],
   "source": [
    "from unidecode import unidecode\n",
    "import nltk\n",
    "nltk.download('omw-1.4')\n",
    "nltk.download('wordnet')\n",
    "\n",
    "from nltk.corpus import wordnet as wn\n",
    "\n",
    "import spacy\n",
    "nlp = spacy.load('es_core_news_sm')\n"
   ]
  },
  {
   "cell_type": "code",
   "execution_count": 2,
   "id": "fb265a63",
   "metadata": {},
   "outputs": [],
   "source": [
    "texto = \"La conservación del medio ambiente es vital para un futuro sostenible. Debemos adoptar prácticas ecoamigables y promover la preservación de la biodiversidad. Cada acción cuenta para proteger nuestro planeta.\"\n",
    "\n",
    "documentos = [\n",
    "    \"Para asegurar un futuro próspero, es esencial priorizar la conservación del entorno. Fomentemos hábitos respetuosos con el medio ambiente y apoyemos la biodiversidad. Cada gesto que hacemos contribuye a preservar nuestro hogar terrestre.\",\n",
    "    \"La preservación de nuestro entorno es clave para un mañana prometedor. Debemos abrazar prácticas que respeten la naturaleza y proteger la riqueza de la biodiversidad. Cada pequeña acción suma para mantener nuestro planeta saludable.\",\n",
    "    \"Para construir un porvenir próspero, es imperativo cuidar nuestro medio ambiente. Debemos adoptar conductas responsables y trabajar por la conservación de la biodiversidad. Cada esfuerzo es fundamental para proteger nuestro mundo.\",\n",
    "    \"La sostenibilidad ambiental es esencial para garantizar un futuro brillante. Es necesario fomentar hábitos ecoamigables y preservar la riqueza de la vida silvestre. Cada paso hacia la conservación cuenta en la protección de nuestro hábitat.\",\n",
    "    \"Nuestra responsabilidad con el medio ambiente define nuestro camino hacia el futuro. Promovamos prácticas amigables con la naturaleza y defendamos la diversidad biológica. Cada compromiso que asumimos es una contribución a la salvaguarda de nuestro ecosistema.\"\n",
    "]"
   ]
  },
  {
   "cell_type": "markdown",
   "id": "058e9555",
   "metadata": {},
   "source": [
    "#### Creamos la funcion de tokenizar"
   ]
  },
  {
   "cell_type": "code",
   "execution_count": 3,
   "id": "f3da00b8",
   "metadata": {},
   "outputs": [
    {
     "name": "stdout",
     "output_type": "stream",
     "text": [
      "['la', 'conservación', 'del', 'medio', 'ambiente', 'es', 'vital', 'para', 'un', 'futuro', 'sostenible', 'debemos', 'adoptar', 'prácticas', 'ecoamigables', 'y', 'promover', 'la', 'preservación', 'de', 'la', 'biodiversidad', 'cada', 'acción', 'cuenta', 'para', 'proteger', 'nuestro', 'planeta']\n"
     ]
    }
   ],
   "source": [
    "def tokenize_text(text):\n",
    "    tokens = []\n",
    "    current_word = ''\n",
    "\n",
    "    for char in text:\n",
    "        if char.isalnum() or char == \"'\":\n",
    "            current_word += char\n",
    "        elif current_word:\n",
    "            tokens.append(current_word.lower())\n",
    "            current_word = ''\n",
    "    \n",
    "    if current_word:\n",
    "        tokens.append(current_word.lower())\n",
    "\n",
    "    return tokens\n",
    "\n",
    "tokens = tokenize_text(texto)\n",
    "print(tokens)\n"
   ]
  },
  {
   "cell_type": "markdown",
   "id": "bb759710",
   "metadata": {},
   "source": [
    "#### Definimos nuestras Stopwords en un arreglo"
   ]
  },
  {
   "cell_type": "code",
   "execution_count": 4,
   "id": "a1d39741",
   "metadata": {},
   "outputs": [],
   "source": [
    "stopwords_espanol = [\n",
    "    \"de\", \"la\", \"que\", \"el\", \"en\", \"y\", \"a\", \"los\", \"del\", \"se\", \"las\", \"por\", \"un\", \"para\", \"con\", \"no\",\n",
    "    \"una\", \"su\", \"al\", \"lo\", \"como\", \"más\", \"pero\", \"sus\", \"le\", \"ya\", \"o\", \"este\", \"sí\", \"porque\", \"esta\",\n",
    "    \"entre\", \"cuando\", \"muy\", \"sin\", \"sobre\", \"también\", \"me\", \"hasta\", \"hay\", \"donde\", \"quien\", \"desde\",\n",
    "    \"todo\", \"nos\", \"durante\", \"todos\", \"uno\", \"les\", \"ni\", \"contra\", \"otros\", \"ese\", \"eso\", \"ante\", \"ellos\",\n",
    "    \"e\", \"esto\", \"mí\", \"antes\", \"algunos\", \"qué\", \"unos\", \"yo\", \"otro\", \"otras\", \"otra\", \"él\", \"tanto\",\n",
    "    \"esa\", \"estos\", \"mucho\", \"quienes\", \"nada\", \"muchos\", \"cual\", \"poco\", \"ella\", \"estar\", \"estas\", \"algunas\",\n",
    "    \"algo\", \"nosotros\", \"mi\", \"mis\", \"tú\", \"te\", \"ti\", \"tu\", \"tus\", \"ellas\", \"nosotras\", \"vosotros\", \"vosotras\",\n",
    "    \"os\", \"mío\", \"mía\", \"míos\", \"mías\", \"tuyo\", \"tuya\", \"tuyos\", \"tuyas\", \"suyo\", \"suya\", \"suyos\", \"suyas\",\n",
    "    \"nuestro\", \"nuestra\", \"nuestros\", \"nuestras\", \"vuestro\", \"vuestra\", \"vuestros\", \"vuestras\", \"esos\", \"esas\",\n",
    "    \"estoy\", \"estás\", \"está\", \"estamos\", \"estáis\", \"están\", \"esté\", \"estés\", \"estemos\", \"estéis\", \"estén\", \"estaré\",\n",
    "    \"estarás\", \"estará\", \"estaremos\", \"estaréis\", \"estarán\", \"estaría\", \"estarías\", \"estaríamos\", \"estaríais\",\n",
    "    \"estarían\", \"estaba\", \"estabas\", \"estábamos\", \"estabais\", \"estaban\", \"estuve\", \"estuviste\", \"estuvo\", \"estuvimos\",\n",
    "    \"estuvisteis\", \"estuvieron\", \"estuviera\", \"estuvieras\", \"estuviéramos\", \"estuvierais\", \"estuvieran\", \"estuviese\",\n",
    "    \"estuvieses\", \"estuviésemos\", \"estuvieseis\", \"estuviesen\", \"estando\", \"estado\", \"estada\", \"estados\", \"estadas\",\n",
    "    \"estad\", \"he\", \"has\", \"ha\", \"hemos\", \"habéis\", \"han\", \"haya\", \"hayas\", \"hayamos\", \"hayáis\", \"hayan\", \"habré\",\n",
    "    \"habrás\", \"habrá\", \"habremos\", \"habréis\", \"habrán\", \"habría\", \"habrías\", \"habríamos\", \"habríais\", \"habrían\",\n",
    "    \"había\", \"habías\", \"habíamos\", \"habíais\", \"habían\", \"hube\", \"hubiste\", \"hubo\", \"hubimos\", \"hubisteis\", \"hubieron\",\n",
    "    \"hubiera\", \"hubieras\", \"hubiéramos\", \"hubierais\", \"hubieran\", \"hubiese\", \"hubieses\", \"hubiésemos\", \"hubieseis\",\n",
    "    \"hubiesen\", \"habiendo\", \"habido\", \"habida\", \"habidos\", \"habidas\", \"soy\", \"eres\", \"es\", \"somos\", \"sois\", \"son\",\n",
    "    \"sea\", \"seas\", \"seamos\", \"seáis\", \"sean\", \"seré\", \"serás\", \"será\", \"seremos\", \"seréis\", \"serán\", \"sería\", \"serías\",\n",
    "    \"seríamos\", \"seríais\", \"serían\", \"era\", \"eras\", \"éramos\", \"erais\", \"eran\", \"fui\", \"fuiste\", \"fue\", \"fuimos\",\n",
    "    \"fuisteis\", \"fueron\", \"fuera\", \"fueras\", \"fuéramos\", \"fuerais\", \"fueran\", \"fuese\", \"fueses\", \"fuésemos\",\n",
    "    \"fueseis\", \"fuesen\", \"sintiendo\", \"sentido\", \"sentida\", \"sentidos\", \"sentidas\", \"siente\", \"sentid\", \"tengo\",\n",
    "    \"tienes\", \"tiene\", \"tenemos\", \"tenéis\", \"tienen\", \"tenga\", \"tengas\", \"tengamos\", \"tengáis\", \"tengan\", \"tendré\",\n",
    "    \"tendrás\", \"tendrá\", \"tendremos\", \"tendréis\", \"tendrán\", \"tendría\", \"tendrías\", \"tendríamos\", \"tendríais\",\n",
    "    \"tendrían\", \"tenía\", \"tenías\", \"teníamos\", \"teníais\", \"tenían\", \"tuve\", \"tuviste\", \"tuvo\", \"tuvimos\", \"tuvisteis\",\n",
    "    \"tuvieron\", \"tuviera\", \"tuvieras\", \"tuviéramos\", \"tuvierais\", \"tuvieran\", \"tuviese\", \"tuvieses\", \"tuviésemos\",\n",
    "    \"tuvieseis\", \"tuviesen\", \"teniendo\", \"tenido\", \"tenida\", \"tenidos\", \"tenidas\", \"tened\"\n",
    "]\n",
    "\n"
   ]
  },
  {
   "cell_type": "markdown",
   "id": "07e27d08",
   "metadata": {},
   "source": [
    "#### Creamos la funcion de filtrado de stopwords"
   ]
  },
  {
   "cell_type": "code",
   "execution_count": 5,
   "id": "775fa3cb",
   "metadata": {},
   "outputs": [
    {
     "name": "stdout",
     "output_type": "stream",
     "text": [
      "['conservación', 'medio', 'ambiente', 'vital', 'futuro', 'sostenible', 'debemos', 'adoptar', 'prácticas', 'ecoamigables', 'promover', 'preservación', 'biodiversidad', 'cada', 'acción', 'cuenta', 'proteger', 'planeta']\n"
     ]
    }
   ],
   "source": [
    "def filtrar_stopwords(tokens, stopwords):\n",
    "    tokens_filtrados = [token for token in tokens if token.lower() not in stopwords]\n",
    "    return tokens_filtrados\n",
    "\n",
    "tokensFiltrados = filtrar_stopwords(tokens, stopwords_espanol)\n",
    "print(tokensFiltrados)"
   ]
  },
  {
   "cell_type": "markdown",
   "id": "5382dee4",
   "metadata": {},
   "source": [
    "#### Creamos la funcion para elimiar acentos "
   ]
  },
  {
   "cell_type": "code",
   "execution_count": 6,
   "id": "91928f42",
   "metadata": {},
   "outputs": [
    {
     "name": "stdout",
     "output_type": "stream",
     "text": [
      "['conservacion', 'medio', 'ambiente', 'vital', 'futuro', 'sostenible', 'debemos', 'adoptar', 'practicas', 'ecoamigables', 'promover', 'preservacion', 'biodiversidad', 'cada', 'accion', 'cuenta', 'proteger', 'planeta']\n"
     ]
    }
   ],
   "source": [
    "def quitar_acentos(tokens):\n",
    "    tokensSinAcentos = [unidecode(token) for token in tokens]\n",
    "    return tokensSinAcentos\n",
    "\n",
    "tokensSinAcentos = quitar_acentos(tokensFiltrados)\n",
    "print(tokensSinAcentos)"
   ]
  },
  {
   "cell_type": "markdown",
   "id": "39292241",
   "metadata": {},
   "source": [
    "#### Creamos a funcion que me lematiza los tokens"
   ]
  },
  {
   "cell_type": "code",
   "execution_count": 7,
   "id": "cbd85d50",
   "metadata": {},
   "outputs": [
    {
     "name": "stdout",
     "output_type": "stream",
     "text": [
      "['conservacion', 'medio', 'ambiente', 'vital', 'futuro', 'sostenible', 'deber', 'adoptar', 'practica', 'ecoamigabl', 'promover', 'preservacion', 'biodiversidad', 'cada', 'accion', 'contar', 'proteger', 'planeta']\n"
     ]
    }
   ],
   "source": [
    "def lematizar(tokens):\n",
    "    lemas = []\n",
    "    for token in tokens:\n",
    "        doc = nlp(token)\n",
    "        for token in doc:\n",
    "            lemas.append(token.lemma_)\n",
    "    return lemas\n",
    "\n",
    "lemas = lematizar(tokensSinAcentos)\n",
    "print(lemas)"
   ]
  },
  {
   "cell_type": "markdown",
   "id": "5613b902",
   "metadata": {},
   "source": [
    "#### Creamos la funcion que nos hace el Stemming"
   ]
  },
  {
   "cell_type": "code",
   "execution_count": 8,
   "id": "9d9c514e",
   "metadata": {},
   "outputs": [
    {
     "name": "stdout",
     "output_type": "stream",
     "text": [
      "['conserv', 'medi', 'ambient', 'vital', 'futur', 'sosten', 'deb', 'adopt', 'practic', 'ecoamig', 'promov', 'preserv', 'biodivers', 'cad', 'accion', 'cuent', 'proteg', 'planet']\n"
     ]
    }
   ],
   "source": [
    "from nltk.stem import SnowballStemmer\n",
    "\n",
    "stemmer = SnowballStemmer('spanish')\n",
    "\n",
    "def stemming(tokens):\n",
    "    stems = [stemmer.stem(token) for token in tokens]\n",
    "    return stems\n",
    "\n",
    "raices = stemming(tokensSinAcentos)\n",
    "print(raices)"
   ]
  },
  {
   "cell_type": "markdown",
   "id": "7d67989a",
   "metadata": {},
   "source": [
    "#### Creamos la funcion de las bag of words para vectorizar"
   ]
  },
  {
   "cell_type": "code",
   "execution_count": 9,
   "id": "bebc72b3",
   "metadata": {
    "tags": []
   },
   "outputs": [
    {
     "name": "stdout",
     "output_type": "stream",
     "text": [
      "Bag of Words representation:\n",
      "{'ecoamigables': 0, 'conductas': 0, 'contribuye': 1, 'brillante': 0, 'cada': 1, 'gesto': 1, 'silvestre': 0, 'fomentemos': 1, 'ambiente': 1, 'suma': 0, 'pequena': 0, 'vida': 0, 'promovamos': 0, 'mundo': 0, 'defendamos': 0, 'esfuerzo': 0, 'respetuosos': 1, 'planeta': 0, 'cuidar': 0, 'trabajar': 0, 'responsables': 0, 'clave': 0, 'futuro': 1, 'adoptar': 0, 'garantizar': 0, 'esencial': 1, 'prospero': 1, 'cuenta': 0, 'practicas': 0, 'naturaleza': 0, 'accion': 0, 'camino': 0, 'asegurar': 1, 'mantener': 0, 'salvaguarda': 0, 'amigables': 0, 'saludable': 0, 'hogar': 1, 'terrestre': 1, 'entorno': 1, 'compromiso': 0, 'ecosistema': 0, 'biologica': 0, 'imperativo': 0, 'preservar': 1, 'abrazar': 0, 'habitat': 0, 'porvenir': 0, 'responsabilidad': 0, 'define': 0, 'proteccion': 0, 'respeten': 0, 'apoyemos': 1, 'preservacion': 0, 'contribucion': 0, 'asumimos': 0, 'ambiental': 0, 'fundamental': 0, 'medio': 1, 'hacemos': 1, 'debemos': 0, 'priorizar': 1, 'necesario': 0, 'manana': 0, 'prometedor': 0, 'fomentar': 0, 'diversidad': 0, 'paso': 0, 'biodiversidad': 1, 'sostenibilidad': 0, 'conservacion': 1, 'hacia': 0, 'construir': 0, 'riqueza': 0, 'habitos': 1, 'proteger': 0}\n",
      "{'ecoamigables': 0, 'conductas': 0, 'contribuye': 0, 'brillante': 0, 'cada': 1, 'gesto': 0, 'silvestre': 0, 'fomentemos': 0, 'ambiente': 0, 'suma': 1, 'pequena': 1, 'vida': 0, 'promovamos': 0, 'mundo': 0, 'defendamos': 0, 'esfuerzo': 0, 'respetuosos': 0, 'planeta': 1, 'cuidar': 0, 'trabajar': 0, 'responsables': 0, 'clave': 1, 'futuro': 0, 'adoptar': 0, 'garantizar': 0, 'esencial': 0, 'prospero': 0, 'cuenta': 0, 'practicas': 1, 'naturaleza': 1, 'accion': 1, 'camino': 0, 'asegurar': 0, 'mantener': 1, 'salvaguarda': 0, 'amigables': 0, 'saludable': 1, 'hogar': 0, 'terrestre': 0, 'entorno': 1, 'compromiso': 0, 'ecosistema': 0, 'biologica': 0, 'imperativo': 0, 'preservar': 0, 'abrazar': 1, 'habitat': 0, 'porvenir': 0, 'responsabilidad': 0, 'define': 0, 'proteccion': 0, 'respeten': 1, 'apoyemos': 0, 'preservacion': 1, 'contribucion': 0, 'asumimos': 0, 'ambiental': 0, 'fundamental': 0, 'medio': 0, 'hacemos': 0, 'debemos': 1, 'priorizar': 0, 'necesario': 0, 'manana': 1, 'prometedor': 1, 'fomentar': 0, 'diversidad': 0, 'paso': 0, 'biodiversidad': 1, 'sostenibilidad': 0, 'conservacion': 0, 'hacia': 0, 'construir': 0, 'riqueza': 1, 'habitos': 0, 'proteger': 1}\n",
      "{'ecoamigables': 0, 'conductas': 1, 'contribuye': 0, 'brillante': 0, 'cada': 1, 'gesto': 0, 'silvestre': 0, 'fomentemos': 0, 'ambiente': 1, 'suma': 0, 'pequena': 0, 'vida': 0, 'promovamos': 0, 'mundo': 1, 'defendamos': 0, 'esfuerzo': 1, 'respetuosos': 0, 'planeta': 0, 'cuidar': 1, 'trabajar': 1, 'responsables': 1, 'clave': 0, 'futuro': 0, 'adoptar': 1, 'garantizar': 0, 'esencial': 0, 'prospero': 1, 'cuenta': 0, 'practicas': 0, 'naturaleza': 0, 'accion': 0, 'camino': 0, 'asegurar': 0, 'mantener': 0, 'salvaguarda': 0, 'amigables': 0, 'saludable': 0, 'hogar': 0, 'terrestre': 0, 'entorno': 0, 'compromiso': 0, 'ecosistema': 0, 'biologica': 0, 'imperativo': 1, 'preservar': 0, 'abrazar': 0, 'habitat': 0, 'porvenir': 1, 'responsabilidad': 0, 'define': 0, 'proteccion': 0, 'respeten': 0, 'apoyemos': 0, 'preservacion': 0, 'contribucion': 0, 'asumimos': 0, 'ambiental': 0, 'fundamental': 1, 'medio': 1, 'hacemos': 0, 'debemos': 1, 'priorizar': 0, 'necesario': 0, 'manana': 0, 'prometedor': 0, 'fomentar': 0, 'diversidad': 0, 'paso': 0, 'biodiversidad': 1, 'sostenibilidad': 0, 'conservacion': 1, 'hacia': 0, 'construir': 1, 'riqueza': 0, 'habitos': 0, 'proteger': 1}\n",
      "{'ecoamigables': 1, 'conductas': 0, 'contribuye': 0, 'brillante': 1, 'cada': 1, 'gesto': 0, 'silvestre': 1, 'fomentemos': 0, 'ambiente': 0, 'suma': 0, 'pequena': 0, 'vida': 1, 'promovamos': 0, 'mundo': 0, 'defendamos': 0, 'esfuerzo': 0, 'respetuosos': 0, 'planeta': 0, 'cuidar': 0, 'trabajar': 0, 'responsables': 0, 'clave': 0, 'futuro': 1, 'adoptar': 0, 'garantizar': 1, 'esencial': 1, 'prospero': 0, 'cuenta': 1, 'practicas': 0, 'naturaleza': 0, 'accion': 0, 'camino': 0, 'asegurar': 0, 'mantener': 0, 'salvaguarda': 0, 'amigables': 0, 'saludable': 0, 'hogar': 0, 'terrestre': 0, 'entorno': 0, 'compromiso': 0, 'ecosistema': 0, 'biologica': 0, 'imperativo': 0, 'preservar': 1, 'abrazar': 0, 'habitat': 1, 'porvenir': 0, 'responsabilidad': 0, 'define': 0, 'proteccion': 1, 'respeten': 0, 'apoyemos': 0, 'preservacion': 0, 'contribucion': 0, 'asumimos': 0, 'ambiental': 1, 'fundamental': 0, 'medio': 0, 'hacemos': 0, 'debemos': 0, 'priorizar': 0, 'necesario': 1, 'manana': 0, 'prometedor': 0, 'fomentar': 1, 'diversidad': 0, 'paso': 1, 'biodiversidad': 0, 'sostenibilidad': 1, 'conservacion': 1, 'hacia': 1, 'construir': 0, 'riqueza': 1, 'habitos': 1, 'proteger': 0}\n",
      "{'ecoamigables': 0, 'conductas': 0, 'contribuye': 0, 'brillante': 0, 'cada': 1, 'gesto': 0, 'silvestre': 0, 'fomentemos': 0, 'ambiente': 1, 'suma': 0, 'pequena': 0, 'vida': 0, 'promovamos': 1, 'mundo': 0, 'defendamos': 1, 'esfuerzo': 0, 'respetuosos': 0, 'planeta': 0, 'cuidar': 0, 'trabajar': 0, 'responsables': 0, 'clave': 0, 'futuro': 1, 'adoptar': 0, 'garantizar': 0, 'esencial': 0, 'prospero': 0, 'cuenta': 0, 'practicas': 1, 'naturaleza': 1, 'accion': 0, 'camino': 1, 'asegurar': 0, 'mantener': 0, 'salvaguarda': 1, 'amigables': 1, 'saludable': 0, 'hogar': 0, 'terrestre': 0, 'entorno': 0, 'compromiso': 1, 'ecosistema': 1, 'biologica': 1, 'imperativo': 0, 'preservar': 0, 'abrazar': 0, 'habitat': 0, 'porvenir': 0, 'responsabilidad': 1, 'define': 1, 'proteccion': 0, 'respeten': 0, 'apoyemos': 0, 'preservacion': 0, 'contribucion': 1, 'asumimos': 1, 'ambiental': 0, 'fundamental': 0, 'medio': 1, 'hacemos': 0, 'debemos': 0, 'priorizar': 0, 'necesario': 0, 'manana': 0, 'prometedor': 0, 'fomentar': 0, 'diversidad': 1, 'paso': 0, 'biodiversidad': 0, 'sostenibilidad': 0, 'conservacion': 0, 'hacia': 1, 'construir': 0, 'riqueza': 0, 'habitos': 0, 'proteger': 0}\n",
      "\n",
      "Vocabulary: ['ecoamigables', 'conductas', 'contribuye', 'brillante', 'cada', 'gesto', 'silvestre', 'fomentemos', 'ambiente', 'suma', 'pequena', 'vida', 'promovamos', 'mundo', 'defendamos', 'esfuerzo', 'respetuosos', 'planeta', 'cuidar', 'trabajar', 'responsables', 'clave', 'futuro', 'adoptar', 'garantizar', 'esencial', 'prospero', 'cuenta', 'practicas', 'naturaleza', 'accion', 'camino', 'asegurar', 'mantener', 'salvaguarda', 'amigables', 'saludable', 'hogar', 'terrestre', 'entorno', 'compromiso', 'ecosistema', 'biologica', 'imperativo', 'preservar', 'abrazar', 'habitat', 'porvenir', 'responsabilidad', 'define', 'proteccion', 'respeten', 'apoyemos', 'preservacion', 'contribucion', 'asumimos', 'ambiental', 'fundamental', 'medio', 'hacemos', 'debemos', 'priorizar', 'necesario', 'manana', 'prometedor', 'fomentar', 'diversidad', 'paso', 'biodiversidad', 'sostenibilidad', 'conservacion', 'hacia', 'construir', 'riqueza', 'habitos', 'proteger']\n"
     ]
    }
   ],
   "source": [
    "def bag_of_words(documents):\n",
    "    # Creamos un conjunto para almacenar todas las palabras únicas en los documentos\n",
    "    vocabulary = set()\n",
    "    for document in documents:\n",
    "        vocabulary.update(document)\n",
    "\n",
    "    # Creamos un diccionario para almacenar las frecuencias de las palabras en cada documento\n",
    "    bow = []\n",
    "    for document in documents:\n",
    "        doc_bow = {}\n",
    "        for word in vocabulary:\n",
    "            doc_bow[word] = document.count(word)\n",
    "        bow.append(doc_bow)\n",
    "\n",
    "    return bow, list(vocabulary)\n",
    "\n",
    "# Ejemplo de uso:\n",
    "\n",
    "docNormalizado = []\n",
    "for doc in documentos:\n",
    "    docNormalizado.append(quitar_acentos(filtrar_stopwords(tokenize_text(doc), stopwords_espanol)))\n",
    "\n",
    "bow_representation, vocabulary = bag_of_words(docNormalizado)\n",
    "print(\"Bag of Words representation:\")\n",
    "for doc_bow in bow_representation:\n",
    "    print(doc_bow)\n",
    "print(\"\\nVocabulary:\", vocabulary)\n"
   ]
  }
 ],
 "metadata": {
  "kernelspec": {
   "display_name": "Python 3 (ipykernel)",
   "language": "python",
   "name": "python3"
  },
  "language_info": {
   "codemirror_mode": {
    "name": "ipython",
    "version": 3
   },
   "file_extension": ".py",
   "mimetype": "text/x-python",
   "name": "python",
   "nbconvert_exporter": "python",
   "pygments_lexer": "ipython3",
   "version": "3.11.0"
  }
 },
 "nbformat": 4,
 "nbformat_minor": 5
}
