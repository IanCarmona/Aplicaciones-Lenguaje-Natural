{
 "cells": [
  {
   "cell_type": "markdown",
   "metadata": {},
   "source": [
    "# Analisis de sentimientos"
   ]
  },
  {
   "cell_type": "markdown",
   "metadata": {},
   "source": [
    "Tipos de analisis de sentimientos\n",
    "\n",
    "* Analisis detallado: Estos se utilizan las estrellas del 1 al 5\n",
    "* Deteccion de emocion: Estos son la clasificacion de emociones\n",
    "* Analisis basado en intencion: Este tienes que encontrar en la reseña elementos clave para vender\n",
    "* Analisis basado en aspectos: este solo la clasifica entre 1 o 0 \n",
    "\n",
    " \n",
    "\n",
    "\n",
    "\n"
   ]
  },
  {
   "cell_type": "code",
   "execution_count": null,
   "metadata": {},
   "outputs": [],
   "source": []
  }
 ],
 "metadata": {
  "language_info": {
   "name": "python"
  }
 },
 "nbformat": 4,
 "nbformat_minor": 2
}
