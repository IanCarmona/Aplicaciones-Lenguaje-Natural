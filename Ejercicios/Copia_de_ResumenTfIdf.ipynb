{
 "cells": [
  {
   "cell_type": "markdown",
   "metadata": {},
   "source": [
    "# Actividad Generar Estrategias para Generar Resúmenes\n",
    "\n",
    "## Grupo 6BM1\n",
    "\n",
    "* Integrantes:\n",
    "* Carmona Serrano Ian Carlo\n",
    "* Rosales Benhumea Aldo \n"
   ]
  },
  {
   "cell_type": "code",
   "execution_count": 27,
   "metadata": {
    "id": "EYeBN2zGGrtm"
   },
   "outputs": [],
   "source": [
    "import pandas as pd\n",
    "import numpy as np\n",
    "import textwrap\n",
    "import nltk\n",
    "from nltk.corpus import stopwords\n",
    "from nltk import word_tokenize\n",
    "from sklearn.feature_extraction.text import TfidfVectorizer\n",
    "from nltk.tokenize import sent_tokenize, word_tokenize\n",
    "from nltk.probability import FreqDist\n"
   ]
  },
  {
   "cell_type": "code",
   "execution_count": 28,
   "metadata": {
    "colab": {
     "base_uri": "https://localhost:8080/"
    },
    "id": "FWScpJl3HoeR",
    "outputId": "046982ad-107d-4282-d4b6-61a9460bb29d"
   },
   "outputs": [
    {
     "name": "stderr",
     "output_type": "stream",
     "text": [
      "[nltk_data] Downloading package punkt to\n",
      "[nltk_data]     C:\\Users\\ianca\\AppData\\Roaming\\nltk_data...\n",
      "[nltk_data]   Package punkt is already up-to-date!\n",
      "[nltk_data] Downloading package stopwords to\n",
      "[nltk_data]     C:\\Users\\ianca\\AppData\\Roaming\\nltk_data...\n",
      "[nltk_data]   Package stopwords is already up-to-date!\n"
     ]
    },
    {
     "data": {
      "text/plain": [
       "True"
      ]
     },
     "execution_count": 28,
     "metadata": {},
     "output_type": "execute_result"
    }
   ],
   "source": [
    "nltk.download('punkt')\n",
    "nltk.download('stopwords')"
   ]
  },
  {
   "cell_type": "code",
   "execution_count": 29,
   "metadata": {
    "id": "OLu-YsOXMeqm"
   },
   "outputs": [],
   "source": [
    "df = pd.read_csv('./news.csv')"
   ]
  },
  {
   "cell_type": "markdown",
   "metadata": {
    "id": "94WSnoMqN8MM"
   },
   "source": [
    "Extraemos sólo un documento para trabajar con él"
   ]
  },
  {
   "cell_type": "code",
   "execution_count": 30,
   "metadata": {
    "colab": {
     "base_uri": "https://localhost:8080/"
    },
    "id": "-zZrND-7MyEO",
    "outputId": "b112229a-78c6-446c-c821-f48a0045fbc4"
   },
   "outputs": [
    {
     "name": "stdout",
     "output_type": "stream",
     "text": [
      "El nuevo programa de Avión Solidario de Latam en alianza con la Fundación Cardioinfantil impulsa la atención integral a niños y niñas que padecen enfermedades cardiovasculares en los diferentes territorios del país de escasos recursos y que requieren atención médica especializada para el manejo de sus patologías. Esta alianza se realiza bajo la dirección del programa Regale una vida.El programa se ofrece a prestar el traslado gratuito e inmediato del paciente personal médico y familiares para su cuidado y seguimiento del proceso hacia los centros poblados donde se prestará la atención especializada.La conectividad para nosotros es fundamental para poder cumplir con nuestra labor. Una vez finalizan las brigadas de diagnóstico cardiovascular los niños y sus familias deben ser trasladados a LaCardio nuestro  hospital ubicado en Bogotá y es ahí donde entran aliados estratégicos como Latam para poder traer a estos pacientes a sus tratamientos y regresarlos a sus ciudades de origen comentó el Dr. Juan Gabriel Cendales director ejecutivo de la Fundación CardioinfantilLaCardio.La problemática que busca abordar esta nueva alianza está centrada en la falta de cobertura para el diagnóstico atención y tratamiento de niños con afectaciones cardiovasculares en las periferias y poblaciones rurales del territorio. Siguiendo la hoja de ruta de atención integral  a través de la red de destinos de LATAM el equipo de la Fundación Cardioinfantil realizará brigadas de diagnóstico y desplegará una serie de oportunidades de acceso a atención médica de especializada a los pacientes de Casanare Atlántico Eje Cafetero Córdoba Huila Bolívar Norte de Santander Cesar entre otras.A la fecha el programa Regale una vida cuenta con una trayectoria de atención de más de 25 años en el sector con sus brigadas de amplio alcance hacia las comunidades ha beneficiado a 54.756 niños y ha atendido integralmente a 16.495 niños y niñas.\n"
     ]
    }
   ],
   "source": [
    "doc = df['news'].sample()\n",
    "print(doc.iloc[0])"
   ]
  },
  {
   "cell_type": "code",
   "execution_count": 31,
   "metadata": {
    "colab": {
     "base_uri": "https://localhost:8080/"
    },
    "id": "d-3ZVIMtM9ax",
    "outputId": "66415cde-24b2-4e1b-81c4-ddcf227a741a"
   },
   "outputs": [
    {
     "name": "stdout",
     "output_type": "stream",
     "text": [
      "El nuevo programa de Avión Solidario de Latam en alianza con la\n",
      "Fundación Cardioinfantil impulsa la atención integral a niños y niñas\n",
      "que padecen enfermedades cardiovasculares en los diferentes\n",
      "territorios del país de escasos recursos y que requieren atención\n",
      "médica especializada para el manejo de sus patologías.  Esta alianza\n",
      "se realiza bajo la dirección del programa Regale una vida.El programa\n",
      "se ofrece a prestar el traslado gratuito e inmediato del paciente\n",
      "personal médico y familiares para su cuidado y seguimiento del proceso\n",
      "hacia los centros poblados donde se prestará la atención\n",
      "especializada.La conectividad para nosotros es fundamental para poder\n",
      "cumplir con nuestra labor.  Una vez finalizan las brigadas de\n",
      "diagnóstico cardiovascular los niños y sus familias deben ser\n",
      "trasladados a LaCardio nuestro  hospital ubicado en Bogotá y es ahí\n",
      "donde entran aliados estratégicos como Latam para poder traer a estos\n",
      "pacientes a sus tratamientos y regresarlos a sus ciudades de origen\n",
      "comentó el Dr.  Juan Gabriel Cendales director ejecutivo de la\n",
      "Fundación CardioinfantilLaCardio.La problemática que busca abordar\n",
      "esta nueva alianza está centrada en la falta de cobertura para el\n",
      "diagnóstico atención y tratamiento de niños con afectaciones\n",
      "cardiovasculares en las periferias y poblaciones rurales del\n",
      "territorio.  Siguiendo la hoja de ruta de atención integral  a través\n",
      "de la red de destinos de LATAM el equipo de la Fundación\n",
      "Cardioinfantil realizará brigadas de diagnóstico y desplegará una\n",
      "serie de oportunidades de acceso a atención médica de especializada a\n",
      "los pacientes de Casanare Atlántico Eje Cafetero Córdoba Huila Bolívar\n",
      "Norte de Santander Cesar entre otras.A la fecha el programa Regale una\n",
      "vida cuenta con una trayectoria de atención de más de 25 años en el\n",
      "sector con sus brigadas de amplio alcance hacia las comunidades ha\n",
      "beneficiado a 54.756 niños y ha atendido integralmente a 16.495 niños\n",
      "y niñas.\n"
     ]
    }
   ],
   "source": [
    "doc = textwrap.fill(doc.iloc[0], replace_whitespace=False, fix_sentence_endings=True)\n",
    "print(doc)"
   ]
  },
  {
   "cell_type": "markdown",
   "metadata": {
    "id": "-GQ4EScdMrnd"
   },
   "source": [
    "Dividir en frases"
   ]
  },
  {
   "cell_type": "code",
   "execution_count": 32,
   "metadata": {
    "colab": {
     "base_uri": "https://localhost:8080/"
    },
    "id": "Kch1o6qfPkq3",
    "outputId": "ec5cafff-5369-4a4a-e913-64d7c18407b9"
   },
   "outputs": [
    {
     "data": {
      "text/plain": [
       "['El nuevo programa de Avión Solidario de Latam en alianza con la\\nFundación Cardioinfantil impulsa la atención integral a niños y niñas\\nque padecen enfermedades cardiovasculares en los diferentes\\nterritorios del país de escasos recursos y que requieren atención\\nmédica especializada para el manejo de sus patologías',\n",
       " '  Esta alianza\\nse realiza bajo la dirección del programa Regale una vida',\n",
       " 'El programa\\nse ofrece a prestar el traslado gratuito e inmediato del paciente\\npersonal médico y familiares para su cuidado y seguimiento del proceso\\nhacia los centros poblados donde se prestará la atención\\nespecializada',\n",
       " 'La conectividad para nosotros es fundamental para poder\\ncumplir con nuestra labor',\n",
       " '  Una vez finalizan las brigadas de\\ndiagnóstico cardiovascular los niños y sus familias deben ser\\ntrasladados a LaCardio nuestro  hospital ubicado en Bogotá y es ahí\\ndonde entran aliados estratégicos como Latam para poder traer a estos\\npacientes a sus tratamientos y regresarlos a sus ciudades de origen\\ncomentó el Dr',\n",
       " '  Juan Gabriel Cendales director ejecutivo de la\\nFundación CardioinfantilLaCardio',\n",
       " 'La problemática que busca abordar\\nesta nueva alianza está centrada en la falta de cobertura para el\\ndiagnóstico atención y tratamiento de niños con afectaciones\\ncardiovasculares en las periferias y poblaciones rurales del\\nterritorio',\n",
       " '  Siguiendo la hoja de ruta de atención integral  a través\\nde la red de destinos de LATAM el equipo de la Fundación\\nCardioinfantil realizará brigadas de diagnóstico y desplegará una\\nserie de oportunidades de acceso a atención médica de especializada a\\nlos pacientes de Casanare Atlántico Eje Cafetero Córdoba Huila Bolívar\\nNorte de Santander Cesar entre otras',\n",
       " 'A la fecha el programa Regale una\\nvida cuenta con una trayectoria de atención de más de 25 años en el\\nsector con sus brigadas de amplio alcance hacia las comunidades ha\\nbeneficiado a 54',\n",
       " '756 niños y ha atendido integralmente a 16',\n",
       " '495 niños\\ny niñas',\n",
       " '']"
      ]
     },
     "execution_count": 32,
     "metadata": {},
     "output_type": "execute_result"
    }
   ],
   "source": [
    "lineas = doc.split(\".\")\n",
    "lineas\n",
    "\n"
   ]
  },
  {
   "cell_type": "code",
   "execution_count": 33,
   "metadata": {
    "colab": {
     "base_uri": "https://localhost:8080/"
    },
    "id": "jYXDdiZbQHpO",
    "outputId": "335954d0-13d1-4aab-8111-081cbf38872e"
   },
   "outputs": [
    {
     "data": {
      "text/plain": [
       "<12x134 sparse matrix of type '<class 'numpy.float64'>'\n",
       "\twith 167 stored elements in Compressed Sparse Row format>"
      ]
     },
     "execution_count": 33,
     "metadata": {},
     "output_type": "execute_result"
    }
   ],
   "source": [
    "tokens = TfidfVectorizer(\n",
    "    stop_words=stopwords.words('spanish'),\n",
    "    norm='l1',\n",
    ")\n",
    "X = tokens.fit_transform(lineas)\n",
    "X"
   ]
  },
  {
   "cell_type": "code",
   "execution_count": 34,
   "metadata": {
    "colab": {
     "base_uri": "https://localhost:8080/"
    },
    "id": "EWZU7Y9cQodo",
    "outputId": "4955367f-af36-4397-e594-b5fd6d7bc089"
   },
   "outputs": [
    {
     "name": "stdout",
     "output_type": "stream",
     "text": [
      "0.0 0.0 0.0 0.0 0.0 0.0 0.0 0.0 0.0 0.0 0.0 0.031792828748897585 0.0 0.05175185841773685 0.0 0.0 0.041907835322369656 0.0 0.0 0.0 0.0 0.0 0.0 0.0 0.0 0.0359909357823405 0.0 0.0 0.0359909357823405 0.0 0.0 0.0 0.0 0.0 0.0 0.0 0.0 0.0 0.0 0.0 0.0 0.0 0.0 0.0 0.0 0.0 0.0 0.041907835322369656 0.0 0.0 0.0 0.0 0.0 0.041907835322369656 0.0 0.0 0.041907835322369656 0.031792828748897585 0.0 0.0 0.0 0.0 0.0 0.0 0.031792828748897585 0.0 0.0 0.0 0.0 0.0 0.0 0.0 0.041907835322369656 0.0 0.0359909357823405 0.0 0.0 0.0 0.0 0.031792828748897585 0.041907835322369656 0.0359909357823405 0.0 0.0359909357823405 0.025875929208868425 0.0 0.0 0.041907835322369656 0.0 0.0 0.0 0.0 0.0 0.041907835322369656 0.041907835322369656 0.041907835322369656 0.0 0.0 0.0 0.0 0.0 0.0 0.0 0.0 0.0 0.02853652395292657 0.0 0.0 0.041907835322369656 0.0 0.0 0.0 0.041907835322369656 0.0 0.0 0.0 0.0 0.0 0.0 0.0 0.0 0.041907835322369656 0.0 0.041907835322369656 0.0 0.0 0.0 0.0 0.0 0.0 0.0 0.0 0.0 0.0 \n",
      "0.0 0.0 0.0 0.0 0.0 0.0 0.0 0.0 0.0 0.0 0.0 0.12321143250799478 0.0 0.0 0.0 0.0 0.0 0.0 0.16241160747790814 0.0 0.0 0.0 0.0 0.0 0.0 0.0 0.0 0.0 0.0 0.0 0.0 0.0 0.0 0.0 0.0 0.0 0.0 0.0 0.0 0.0 0.0 0.0 0.0 0.0 0.0 0.0 0.0 0.0 0.16241160747790814 0.0 0.0 0.0 0.0 0.0 0.0 0.0 0.0 0.0 0.0 0.0 0.0 0.0 0.0 0.0 0.0 0.0 0.0 0.0 0.0 0.0 0.0 0.0 0.0 0.0 0.0 0.0 0.0 0.0 0.0 0.0 0.0 0.0 0.0 0.0 0.0 0.0 0.0 0.0 0.0 0.0 0.0 0.0 0.0 0.0 0.0 0.0 0.0 0.0 0.0 0.0 0.0 0.0 0.0 0.0 0.0 0.11059179486067927 0.16241160747790814 0.0 0.0 0.0 0.13948097509880075 0.0 0.0 0.0 0.0 0.0 0.0 0.0 0.0 0.0 0.0 0.0 0.0 0.0 0.0 0.0 0.0 0.0 0.0 0.0 0.0 0.0 0.0 0.13948097509880075 \n",
      "0.0 0.0 0.0 0.0 0.0 0.0 0.0 0.0 0.0 0.0 0.0 0.0 0.0 0.03446384578604632 0.0 0.0 0.0 0.0 0.0 0.0 0.0 0.0 0.0 0.0 0.0 0.0 0.0 0.0 0.0 0.0 0.0 0.0 0.055816552987096896 0.0 0.0 0.0 0.0 0.0 0.0 0.0 0.055816552987096896 0.0 0.0 0.0 0.0 0.0 0.0 0.0 0.0 0.0 0.0 0.0 0.0 0.0 0.0 0.0 0.0 0.04234449469465457 0.0 0.0 0.055816552987096896 0.0 0.0 0.0 0.0 0.0 0.0 0.055816552987096896 0.04793590407848865 0.0 0.0 0.0 0.0 0.055816552987096896 0.0 0.0 0.0 0.0 0.0 0.0 0.0 0.0 0.055816552987096896 0.0 0.0 0.0 0.0 0.0 0.055816552987096896 0.0 0.0 0.055816552987096896 0.0 0.0 0.0 0.0 0.0 0.055816552987096896 0.0 0.055816552987096896 0.0 0.055816552987096896 0.055816552987096896 0.0 0.055816552987096896 0.038007460634357115 0.0 0.0 0.0 0.0 0.0 0.0 0.0 0.0 0.0 0.0 0.0 0.055816552987096896 0.0 0.0 0.0 0.0 0.0 0.0 0.0 0.0 0.055816552987096896 0.0 0.0 0.0 0.0 0.0 0.0 0.0 \n",
      "0.0 0.0 0.0 0.0 0.0 0.0 0.0 0.0 0.0 0.0 0.0 0.0 0.0 0.0 0.0 0.0 0.0 0.0 0.0 0.0 0.0 0.0 0.0 0.0 0.0 0.0 0.0 0.0 0.0 0.0 0.0 0.0 0.0 0.0 0.0 0.0 0.0 0.0 0.20581164264059598 0.0 0.0 0.20581164264059598 0.0 0.0 0.0 0.0 0.0 0.0 0.0 0.0 0.0 0.0 0.0 0.0 0.0 0.0 0.0 0.0 0.0 0.0 0.0 0.0 0.0 0.0 0.0 0.20581164264059598 0.0 0.0 0.0 0.0 0.0 0.0 0.0 0.0 0.0 0.0 0.0 0.20581164264059598 0.0 0.0 0.0 0.0 0.0 0.0 0.0 0.0 0.0 0.0 0.0 0.0 0.0 0.0 0.0 0.0 0.0 0.0 0.0 0.0 0.0 0.0 0.17675342943761613 0.0 0.0 0.0 0.0 0.0 0.0 0.0 0.0 0.0 0.0 0.0 0.0 0.0 0.0 0.0 0.0 0.0 0.0 0.0 0.0 0.0 0.0 0.0 0.0 0.0 0.0 0.0 0.0 0.0 0.0 0.0 0.0 0.0 \n",
      "0.0 0.0 0.0 0.0 0.0 0.0 0.0 0.0 0.037578469994873354 0.0 0.037578469994873354 0.0 0.0 0.0 0.0 0.0 0.0 0.0 0.0 0.0 0.037578469994873354 0.0 0.028508412615501317 0.0 0.0 0.0 0.0 0.037578469994873354 0.0 0.0 0.0 0.0 0.0 0.0 0.037578469994873354 0.0 0.037578469994873354 0.0 0.0 0.0 0.0 0.0 0.0 0.037578469994873354 0.0 0.0 0.028508412615501317 0.0 0.0 0.0 0.037578469994873354 0.0 0.0 0.0 0.037578469994873354 0.0 0.0 0.0 0.037578469994873354 0.0 0.0 0.037578469994873354 0.0 0.037578469994873354 0.0 0.0 0.0 0.0 0.0 0.0 0.037578469994873354 0.0 0.0 0.0 0.0 0.0 0.0 0.0 0.037578469994873354 0.028508412615501317 0.0 0.0 0.0 0.0 0.02320276916917947 0.0 0.0 0.0 0.0 0.0 0.037578469994873354 0.0 0.032272826548551514 0.0 0.0 0.0 0.0 0.0 0.0 0.0 0.032272826548551514 0.0 0.0 0.0 0.0 0.0 0.0 0.0 0.0 0.0 0.0 0.037578469994873354 0.0 0.0 0.0 0.0 0.0 0.0 0.037578469994873354 0.0 0.0 0.0 0.0 0.0 0.037578469994873354 0.037578469994873354 0.0 0.0 0.037578469994873354 0.0 0.0 0.037578469994873354 0.037578469994873354 0.0 \n",
      "0.0 0.0 0.0 0.0 0.0 0.0 0.0 0.0 0.0 0.0 0.0 0.0 0.0 0.0 0.0 0.0 0.0 0.0 0.0 0.0 0.0 0.0 0.0 0.0 0.0 0.0 0.14795882959578244 0.0 0.0 0.0 0.14795882959578244 0.0 0.0 0.0 0.0 0.0 0.0 0.0 0.0 0.0 0.0 0.0 0.0 0.0 0.0 0.0 0.0 0.0 0.0 0.14795882959578244 0.0 0.0 0.14795882959578244 0.0 0.0 0.0 0.0 0.0 0.0 0.0 0.0 0.0 0.0 0.0 0.11224702242530536 0.0 0.14795882959578244 0.0 0.0 0.0 0.0 0.0 0.0 0.0 0.0 0.0 0.14795882959578244 0.0 0.0 0.0 0.0 0.0 0.0 0.0 0.0 0.0 0.0 0.0 0.0 0.0 0.0 0.0 0.0 0.0 0.0 0.0 0.0 0.0 0.0 0.0 0.0 0.0 0.0 0.0 0.0 0.0 0.0 0.0 0.0 0.0 0.0 0.0 0.0 0.0 0.0 0.0 0.0 0.0 0.0 0.0 0.0 0.0 0.0 0.0 0.0 0.0 0.0 0.0 0.0 0.0 0.0 0.0 0.0 0.0 \n",
      "0.0 0.0 0.0 0.0 0.0 0.06020113571677437 0.0 0.06020113571677437 0.0 0.0 0.0 0.045670800784857274 0.0 0.03717109972676707 0.0 0.0 0.0 0.0 0.0 0.0 0.0 0.0 0.0 0.06020113571677437 0.0 0.0 0.0 0.0 0.051701434658684174 0.0 0.0 0.06020113571677437 0.0 0.0 0.0 0.06020113571677437 0.0 0.0 0.0 0.0 0.0 0.0 0.0 0.0 0.0 0.0 0.045670800784857274 0.0 0.0 0.0 0.0 0.0 0.0 0.0 0.0 0.0 0.0 0.0 0.0 0.06020113571677437 0.0 0.0 0.0 0.0 0.0 0.0 0.0 0.0 0.0 0.0 0.0 0.0 0.0 0.0 0.0 0.0 0.0 0.0 0.0 0.0 0.0 0.0 0.0 0.0 0.03717109972676707 0.0 0.06020113571677437 0.0 0.0 0.0 0.0 0.0 0.0 0.0 0.0 0.0 0.06020113571677437 0.0 0.06020113571677437 0.0 0.0 0.0 0.0 0.06020113571677437 0.0 0.0 0.0 0.0 0.0 0.0 0.0 0.0 0.0 0.06020113571677437 0.0 0.0 0.0 0.0 0.0 0.0 0.0 0.0 0.06020113571677437 0.0 0.0 0.0 0.0 0.06020113571677437 0.0 0.0 0.0 0.0 0.0 0.0 \n",
      "0.0 0.0 0.0 0.0 0.0 0.0 0.032826354640856155 0.0 0.0 0.0 0.0 0.0 0.0 0.040537165536612775 0.0 0.032826354640856155 0.0 0.0 0.0 0.0 0.0 0.032826354640856155 0.024903282727901755 0.0 0.032826354640856155 0.028191654681260794 0.0 0.0 0.0 0.032826354640856155 0.0 0.0 0.0 0.032826354640856155 0.0 0.0 0.0 0.0 0.0 0.0 0.0 0.0 0.032826354640856155 0.0 0.032826354640856155 0.032826354640856155 0.024903282727901755 0.0 0.0 0.0 0.0 0.032826354640856155 0.0 0.0 0.0 0.032826354640856155 0.0 0.024903282727901755 0.0 0.0 0.0 0.0 0.0 0.0 0.024903282727901755 0.0 0.0 0.0 0.0 0.032826354640856155 0.0 0.032826354640856155 0.0 0.0 0.028191654681260794 0.0 0.0 0.0 0.0 0.024903282727901755 0.0 0.028191654681260794 0.0 0.0 0.0 0.032826354640856155 0.0 0.0 0.0 0.032826354640856155 0.0 0.0 0.028191654681260794 0.0 0.0 0.0 0.0 0.0 0.0 0.0 0.0 0.0 0.0 0.0 0.0 0.0 0.0 0.032826354640856155 0.0 0.032826354640856155 0.0 0.0 0.0 0.0 0.032826354640856155 0.032826354640856155 0.0 0.0 0.0 0.032826354640856155 0.032826354640856155 0.0 0.0 0.0 0.0 0.0 0.0 0.0 0.0 0.032826354640856155 0.0 0.0 0.0 0.0 \n",
      "0.0 0.06396538508303855 0.0 0.06396538508303855 0.0 0.0 0.0 0.0 0.0 0.06396538508303855 0.0 0.0 0.06396538508303855 0.03949532977531809 0.0 0.0 0.0 0.06396538508303855 0.0 0.06396538508303855 0.0 0.0 0.04852649911785855 0.0 0.0 0.0 0.0 0.0 0.0 0.0 0.0 0.0 0.0 0.0 0.0 0.0 0.0 0.06396538508303855 0.0 0.06396538508303855 0.0 0.0 0.0 0.0 0.0 0.0 0.0 0.0 0.0 0.0 0.0 0.0 0.0 0.0 0.0 0.0 0.0 0.0 0.0 0.0 0.0 0.0 0.06396538508303855 0.0 0.0 0.0 0.0 0.0 0.054934215740498095 0.0 0.0 0.0 0.0 0.0 0.0 0.0 0.0 0.0 0.0 0.0 0.0 0.0 0.0 0.0 0.0 0.0 0.0 0.0 0.0 0.0 0.0 0.0 0.0 0.0 0.0 0.0 0.0 0.0 0.0 0.0 0.0 0.0 0.0 0.0 0.0 0.04355628797190491 0.0 0.0 0.0 0.0 0.054934215740498095 0.0 0.0 0.0 0.0 0.0 0.06396538508303855 0.0 0.0 0.0 0.0 0.0 0.0 0.0 0.0 0.0 0.0 0.0 0.0 0.0 0.06396538508303855 0.0 0.0 0.054934215740498095 \n",
      "0.2165698230068706 0.0 0.0 0.0 0.2165698230068706 0.0 0.0 0.0 0.0 0.0 0.0 0.0 0.0 0.0 0.2165698230068706 0.0 0.0 0.0 0.0 0.0 0.0 0.0 0.0 0.0 0.0 0.0 0.0 0.0 0.0 0.0 0.0 0.0 0.0 0.0 0.0 0.0 0.0 0.0 0.0 0.0 0.0 0.0 0.0 0.0 0.0 0.0 0.0 0.0 0.0 0.0 0.0 0.0 0.0 0.0 0.0 0.0 0.0 0.0 0.0 0.0 0.0 0.0 0.0 0.0 0.0 0.0 0.0 0.0 0.0 0.0 0.0 0.0 0.0 0.0 0.0 0.2165698230068706 0.0 0.0 0.0 0.0 0.0 0.0 0.0 0.0 0.13372070797251753 0.0 0.0 0.0 0.0 0.0 0.0 0.0 0.0 0.0 0.0 0.0 0.0 0.0 0.0 0.0 0.0 0.0 0.0 0.0 0.0 0.0 0.0 0.0 0.0 0.0 0.0 0.0 0.0 0.0 0.0 0.0 0.0 0.0 0.0 0.0 0.0 0.0 0.0 0.0 0.0 0.0 0.0 0.0 0.0 0.0 0.0 0.0 0.0 0.0 \n",
      "0.0 0.0 0.403834799770423 0.0 0.0 0.0 0.0 0.0 0.0 0.0 0.0 0.0 0.0 0.0 0.0 0.0 0.0 0.0 0.0 0.0 0.0 0.0 0.0 0.0 0.0 0.0 0.0 0.0 0.0 0.0 0.0 0.0 0.0 0.0 0.0 0.0 0.0 0.0 0.0 0.0 0.0 0.0 0.0 0.0 0.0 0.0 0.0 0.0 0.0 0.0 0.0 0.0 0.0 0.0 0.0 0.0 0.0 0.0 0.0 0.0 0.0 0.0 0.0 0.0 0.0 0.0 0.0 0.0 0.0 0.0 0.0 0.0 0.0 0.0 0.0 0.0 0.0 0.0 0.0 0.0 0.0 0.0 0.0 0.3468180170464073 0.24934718318316978 0.0 0.0 0.0 0.0 0.0 0.0 0.0 0.0 0.0 0.0 0.0 0.0 0.0 0.0 0.0 0.0 0.0 0.0 0.0 0.0 0.0 0.0 0.0 0.0 0.0 0.0 0.0 0.0 0.0 0.0 0.0 0.0 0.0 0.0 0.0 0.0 0.0 0.0 0.0 0.0 0.0 0.0 0.0 0.0 0.0 0.0 0.0 0.0 0.0 \n",
      "0.0 0.0 0.0 0.0 0.0 0.0 0.0 0.0 0.0 0.0 0.0 0.0 0.0 0.0 0.0 0.0 0.0 0.0 0.0 0.0 0.0 0.0 0.0 0.0 0.0 0.0 0.0 0.0 0.0 0.0 0.0 0.0 0.0 0.0 0.0 0.0 0.0 0.0 0.0 0.0 0.0 0.0 0.0 0.0 0.0 0.0 0.0 0.0 0.0 0.0 0.0 0.0 0.0 0.0 0.0 0.0 0.0 0.0 0.0 0.0 0.0 0.0 0.0 0.0 0.0 0.0 0.0 0.0 0.0 0.0 0.0 0.0 0.0 0.0 0.0 0.0 0.0 0.0 0.0 0.0 0.0 0.0 0.0 0.0 0.0 0.0 0.0 0.0 0.0 0.0 0.0 0.0 0.0 0.0 0.0 0.0 0.0 0.0 0.0 0.0 0.0 0.0 0.0 0.0 0.0 0.0 0.0 0.0 0.0 0.0 0.0 0.0 0.0 0.0 0.0 0.0 0.0 0.0 0.0 0.0 0.0 0.0 0.0 0.0 0.0 0.0 0.0 0.0 0.0 0.0 0.0 0.0 0.0 0.0 \n"
     ]
    }
   ],
   "source": [
    "filas, columnas = X.shape\n",
    "\n",
    "for i in range(filas):\n",
    "    for j in range(columnas):\n",
    "        print(X[i, j], end=' ')\n",
    "    print()"
   ]
  },
  {
   "cell_type": "code",
   "execution_count": 35,
   "metadata": {
    "colab": {
     "base_uri": "https://localhost:8080/"
    },
    "id": "Wc5KiQ4-Q2q7",
    "outputId": "54bcf6b4-e0be-4288-b906-4fe0dbe1cf04"
   },
   "outputs": [
    {
     "name": "stderr",
     "output_type": "stream",
     "text": [
      "c:\\Python311\\Lib\\site-packages\\scipy\\sparse\\_base.py:651: RuntimeWarning: divide by zero encountered in divide\n",
      "  return self.astype(np.float_)._mul_scalar(1./other)\n"
     ]
    }
   ],
   "source": [
    "def obtener_score(tfidf_row):\n",
    "    x = tfidf_row[tfidf_row != 0]\n",
    "    return x.mean()\n",
    "scores = np.zeros(len(lineas))\n",
    "for i in range(len(lineas)):\n",
    "    score = obtener_score(X[i,:])\n",
    "    scores[i] = score"
   ]
  },
  {
   "cell_type": "code",
   "execution_count": 36,
   "metadata": {
    "colab": {
     "base_uri": "https://localhost:8080/"
    },
    "id": "zbNWMYSEQ_pX",
    "outputId": "19def766-69da-4b1b-8a90-d32311d03bb2"
   },
   "outputs": [
    {
     "data": {
      "text/plain": [
       "array([10,  3,  9,  1,  5,  8,  6,  2,  0,  4,  7, 11], dtype=int64)"
      ]
     },
     "execution_count": 36,
     "metadata": {},
     "output_type": "execute_result"
    }
   ],
   "source": [
    "scores\n",
    "sort_idx = np.argsort(-scores)\n",
    "sort_idx"
   ]
  },
  {
   "cell_type": "code",
   "execution_count": 37,
   "metadata": {
    "colab": {
     "base_uri": "https://localhost:8080/"
    },
    "id": "ZJ4x1mMDRKVM",
    "outputId": "0a855303-42da-4375-ee4a-583643fd5076"
   },
   "outputs": [
    {
     "name": "stdout",
     "output_type": "stream",
     "text": [
      "Resumen:\n",
      "0.3333333333333333: 495 niños\n",
      "y niñas\n",
      "0.2: La conectividad para nosotros es fundamental para poder\n",
      "cumplir con nuestra labor\n",
      "0.2: 756 niños y ha atendido integralmente a 16\n",
      "0.14285714285714285:   Esta alianza\n",
      "se realiza bajo la dirección del programa Regale una vida\n",
      "0.14285714285714285:   Juan Gabriel Cendales director ejecutivo de la\n",
      "Fundación CardioinfantilLaCardio\n"
     ]
    }
   ],
   "source": [
    "print(\"Resumen:\")\n",
    "oraciones = []\n",
    "for i in range(0,5):\n",
    "    oraciones.append([sort_idx[i], scores[sort_idx[i]], lineas[sort_idx[i]]])\n",
    "    print(f\"{scores[sort_idx[i]]}: {lineas[sort_idx[i]]}\")"
   ]
  },
  {
   "cell_type": "markdown",
   "metadata": {
    "id": "mfMythYFR5SM"
   },
   "source": [
    "Ordenar la lista por el primer elemento de cada sublista"
   ]
  },
  {
   "cell_type": "code",
   "execution_count": 38,
   "metadata": {
    "colab": {
     "base_uri": "https://localhost:8080/"
    },
    "id": "WTBiRdCOR0-F",
    "outputId": "31c093ea-f419-423f-ca51-d919c08df694"
   },
   "outputs": [
    {
     "name": "stdout",
     "output_type": "stream",
     "text": [
      "  Esta alianza\n",
      "se realiza bajo la dirección del programa Regale una vida\n",
      "La conectividad para nosotros es fundamental para poder\n",
      "cumplir con nuestra labor\n",
      "  Juan Gabriel Cendales director ejecutivo de la\n",
      "Fundación CardioinfantilLaCardio\n",
      "756 niños y ha atendido integralmente a 16\n",
      "495 niños\n",
      "y niñas\n"
     ]
    }
   ],
   "source": [
    "oraciones_ord = sorted(oraciones, key=lambda x: x[0])\n",
    "\n",
    "for item in oraciones_ord:\n",
    "    print(item[2])"
   ]
  },
  {
   "cell_type": "markdown",
   "metadata": {
    "id": "LpRc7NODpRCP"
   },
   "source": [
    "## Ahora vamos a probar otra tecnica para obtener palabras relevantes"
   ]
  },
  {
   "cell_type": "markdown",
   "metadata": {
    "id": "Vbe35tl8pciq"
   },
   "source": [
    "### Pruebas de este enfoque el cual de las palabras relevantes resaliza un resurme"
   ]
  },
  {
   "cell_type": "code",
   "execution_count": 39,
   "metadata": {},
   "outputs": [
    {
     "name": "stdout",
     "output_type": "stream",
     "text": [
      "Documento 1: mexico, banco, cambio, tipo, 2024\n",
      "Documento 2: mexico, banco, dias, plazo, tasa\n",
      "Documento 3: mexico, banco, dia, lic, rubrica\n",
      "Resumen del documento 1: al margen un logotipo, que dice: banco de mexico.- 2024, ano de felipe carrillo puerto, benemerito del proletariado, revolucionario y defensor del mayab.\n",
      "Resumen del documento 2: la tasa de interes a plazo de 28 dias se calculo con base en las cotizaciones presentadas por las siguientes instituciones de banca multiple: bbva mexico, s.a., banco santander (mexico), s.a., hsbc mexico, s.a., banco nacional de mexico, s.a., banco inbursa, s.a., banca mifel, s.a. y banco j.p. morgan, s.a. ciudad de mexico, a 7 de mayo de 2024.- banco de mexico: directora de disposiciones de banca central, lic.\n",
      "Resumen del documento 3: del reglamento interior del banco de mexico y de conformidad con el procedimiento establecido en el capitulo iv del titulo tercero de su circular 3/2012, informa que la tasa de interes interbancaria de equilibrio (tiie) de fondeo a un dia habil bancario en moneda nacional determinada el dia de hoy, fue de 11.01 por ciento.\n"
     ]
    },
    {
     "name": "stderr",
     "output_type": "stream",
     "text": [
      "[nltk_data] Downloading package punkt to\n",
      "[nltk_data]     C:\\Users\\ianca\\AppData\\Roaming\\nltk_data...\n",
      "[nltk_data]   Package punkt is already up-to-date!\n",
      "[nltk_data] Downloading package stopwords to\n",
      "[nltk_data]     C:\\Users\\ianca\\AppData\\Roaming\\nltk_data...\n",
      "[nltk_data]   Package stopwords is already up-to-date!\n"
     ]
    }
   ],
   "source": [
    "nltk.download('punkt')\n",
    "nltk.download('stopwords')\n",
    "\n",
    "# Lista de textos de ejemplo en español\n",
    "textos = [\n",
    "    'diario oficial miercoles 8 de mayo de 2024 miercoles 8 de mayo de 2024 diario oficial banco de mexico tipo de cambio para solventar obligaciones denominadas en moneda extranjera pagaderas en la republica mexicana. al margen un logotipo, que dice: banco de mexico.- ''2024, ano de felipe carrillo puerto, benemerito del proletariado, revolucionario y defensor del mayab''. tipo de cambio para solventar obligaciones denominadas en moneda extranjera pagaderas en la republica mexicana el banco de mexico, con fundamento en los articulos 8o. de la ley monetaria de los estados unidos mexicanos; 35 de la ley del banco de mexico, asi como 8o. y 10 del reglamento interior del banco de mexico, y segun lo previsto en el capitulo v del titulo tercero de su circular 3/2012, informa que el tipo de cambio obtenido el dia de hoy fue de $16.9083 m.n. (dieciseis pesos con nueve mil ochenta y tres diezmilesimos moneda nacional) por un dolar de los ee.uu.a. la equivalencia del peso mexicano con otras monedas extranjeras se calculara atendiendo a la cotizacion que rija para estas ultimas contra el dolar de los ee.uu.a., en los mercados internacionales el dia en que se haga el pago. estas cotizaciones seran dadas a conocer, a solicitud de los interesados, por las instituciones de credito del pais. atentamente, ciudad de mexico, a 7 de mayo de 2024.- banco de mexico: directora de disposiciones de banca central, lic. maria teresa munoz aramburu.- rubrica.- gerente de analisis de mercados nacionales, lic. dafne ramos ruiz.- rubrica. tasas de interes interbancarias de equilibrio. al margen un logotipo, que dice: banco de mexico.- ''2024, ano de felipe carrillo puerto, benemerito del proletariado, revolucionario y defensor del mayab''. tasas de interes interbancarias de equilibrio',\n",
    "    'el banco de mexico, con fundamento en los articulos 8o. y 10o. del reglamento interior del banco de mexico y de conformidad con el procedimiento establecido en el capitulo iv del titulo tercero de su circular 3/2012, informa que la tasa de interes interbancaria de equilibrio en moneda nacional (tiie) a plazo de 28 dias obtenida el dia de hoy, fue de 11.2400%; a plazo de 91 dias obtenida el dia de hoy, fue de 11.4029%; y a plazo de 182 dias obtenida el dia de hoy, fue de 11.5604%. la tasa de interes a plazo de 28 dias se calculo con base en las cotizaciones presentadas por las siguientes instituciones de banca multiple: bbva mexico, s.a., banco santander (mexico), s.a., hsbc mexico, s.a., banco nacional de mexico, s.a., banco inbursa, s.a., banca mifel, s.a. y banco j.p. morgan, s.a. ciudad de mexico, a 7 de mayo de 2024.- banco de mexico: directora de disposiciones de banca central, lic. maria teresa munoz aramburu.- rubrica.- gerente de analisis de mercados nacionales, lic. dafne ramos ruiz.- rubrica. tasa de interes interbancaria de equilibrio de fondeo a un dia habil bancario. al margen un logotipo, que dice: banco de mexico.- \"2024, ano de felipe carrillo puerto, benemerito del proletariado, revolucionario y defensor del mayab\". tasa de interes interbancaria de equilibrio de fondeo a un dia habil bancario',\n",
    "    'el banco de mexico, con fundamento en los articulos 8o. y 10o. del reglamento interior del banco de mexico y de conformidad con el procedimiento establecido en el capitulo iv del titulo tercero de su circular 3/2012, informa que la tasa de interes interbancaria de equilibrio (tiie) de fondeo a un dia habil bancario en moneda nacional determinada el dia de hoy, fue de 11.01 por ciento. ciudad de mexico, a 6 de mayo de 2024.- banco de mexico: directora de disposiciones de banca central, lic. maria teresa munoz aramburu.- rubrica.- gerente de analisis de mercados nacionales, lic. dafne ramos ruiz.- rubrica.'\n",
    "]\n",
    "\n",
    "def extraer_palabras_clave_tfidf(textos):\n",
    "    vectorizer = TfidfVectorizer(stop_words=stopwords.words('spanish'))\n",
    "    tfidf_matrix = vectorizer.fit_transform(textos)\n",
    "    palabras_clave = []\n",
    "    for i in range(tfidf_matrix.shape[0]):\n",
    "        tfidf_scores = zip(vectorizer.get_feature_names_out(), tfidf_matrix[i].toarray()[0])\n",
    "        sorted_tfidf_scores = sorted(tfidf_scores, key=lambda x: x[1], reverse=True)\n",
    "        palabras_clave.append([word for word, score in sorted_tfidf_scores[:5]])\n",
    "    return palabras_clave\n",
    "\n",
    "# Obtener las palabras clave de cada documento\n",
    "palabras_clave_documentos = extraer_palabras_clave_tfidf(textos)\n",
    "\n",
    "# Imprimir las palabras clave de cada documento\n",
    "for i, palabras_clave in enumerate(palabras_clave_documentos, start=1):\n",
    "    print(f\"Documento {i}: {', '.join(palabras_clave)}\")\n",
    "\n",
    "def eliminarSWE(tokens):\n",
    "    tokensLimpios = []\n",
    "    stoppalabras_espanol = set(stopwords.words('spanish'))\n",
    "    for oracion in tokens:\n",
    "        oracion_limpia = [palabra for palabra in oracion if palabra.lower() not in stoppalabras_espanol]\n",
    "        tokensLimpios.append(oracion_limpia)\n",
    "    return tokensLimpios\n",
    "\n",
    "def palabrasImpFrec(tokens):\n",
    "    palabras_importantes = FreqDist([word.lower() for oracion in tokens for word in oracion])\n",
    "    return palabras_importantes\n",
    "\n",
    "def resumer(texto):\n",
    "    oraciones = sent_tokenize(texto)\n",
    "    palabras = [word_tokenize(oracion) for oracion in oraciones]\n",
    "    stop_words = set(stopwords.words('spanish'))\n",
    "    palabras_limpias = eliminarSWE(palabras)\n",
    "    palabras_importantes = palabrasImpFrec(palabras)\n",
    "    puntuacion_oracion = {i: sum(palabras_importantes.get(word.lower(), 0) for word in oracion if word.lower() not in stop_words) for i, oracion in enumerate(palabras)}\n",
    "    oraciones_importantes = sorted(puntuacion_oracion.items(), key=lambda x: x[1], reverse=True)[:1]\n",
    "    texto_resumido = ' '.join(oraciones[index] for index, _ in oraciones_importantes)\n",
    "\n",
    "    return texto_resumido\n",
    "\n",
    "# Resumir cada texto\n",
    "for i, texto in enumerate(textos, start=1):\n",
    "    resumen = resumer(texto)\n",
    "    print(f\"Resumen del documento {i}: {resumen}\")\n"
   ]
  },
  {
   "cell_type": "markdown",
   "metadata": {},
   "source": [
    "## Función sent_tokenize en Python\n",
    "\n",
    "La función `sent_tokenize` es una herramienta de procesamiento de lenguaje natural (NLP) en Python que se utiliza para dividir un bloque de texto en oraciones individuales.\n",
    "\n",
    "### Cómo funciona\n",
    "\n",
    "1. **Importación de la librería**: Primero, necesitas importar la librería adecuada en tu script de Python. La función `sent_tokenize` se encuentra comúnmente en la librería NLTK (Natural Language Toolkit) o en la librería spaCy.\n",
    "\n",
    "2. **Llamada a la función**: Después de importar la librería, puedes utilizar la función `sent_tokenize` pasando el texto que deseas dividir como argumento.\n",
    "\n",
    "3. **División del texto**: La función analiza el texto y utiliza reglas gramaticales y de puntuación para identificar los límites entre las oraciones. Luego, devuelve una lista donde cada elemento es una oración del texto original.\n",
    "\n",
    "### Ejemplo de código\n",
    "\n",
    "```python\n",
    "# Importar la librería NLTK y la función sent_tokenize\n",
    "from nltk.tokenize import sent_tokenize\n",
    "\n",
    "# Texto de ejemplo\n",
    "texto = \"El procesamiento de lenguaje natural es una disciplina emocionante. Te permite analizar y comprender el lenguaje humano de una manera automatizada. Existen muchas técnicas y herramientas disponibles para realizar tareas de procesamiento de lenguaje natural.\"\n",
    "\n",
    "# Llamar a la función sent_tokenize\n",
    "oraciones = sent_tokenize(texto)\n",
    "\n",
    "# Imprimir las oraciones divididas\n",
    "for oracion in oraciones:\n",
    "    print(oracion)\n"
   ]
  }
 ],
 "metadata": {
  "colab": {
   "provenance": []
  },
  "kernelspec": {
   "display_name": "Python 3 (ipykernel)",
   "language": "python",
   "name": "python3"
  },
  "language_info": {
   "codemirror_mode": {
    "name": "ipython",
    "version": 3
   },
   "file_extension": ".py",
   "mimetype": "text/x-python",
   "name": "python",
   "nbconvert_exporter": "python",
   "pygments_lexer": "ipython3",
   "version": "3.11.0"
  }
 },
 "nbformat": 4,
 "nbformat_minor": 4
}
