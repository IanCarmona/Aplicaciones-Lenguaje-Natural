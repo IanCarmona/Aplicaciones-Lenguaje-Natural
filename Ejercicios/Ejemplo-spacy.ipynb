{
 "cells": [
  {
   "cell_type": "markdown",
   "metadata": {},
   "source": [
    "# Ejemplo Spacy "
   ]
  },
  {
   "cell_type": "code",
   "execution_count": 1,
   "metadata": {},
   "outputs": [],
   "source": [
    "import spacy"
   ]
  },
  {
   "cell_type": "markdown",
   "metadata": {},
   "source": [
    "Cargamos el modelo "
   ]
  },
  {
   "cell_type": "code",
   "execution_count": 2,
   "metadata": {},
   "outputs": [],
   "source": [
    "nlp = spacy.load(\"es_core_news_sm\")"
   ]
  },
  {
   "cell_type": "markdown",
   "metadata": {},
   "source": [
    "Ejemplo de uso de etiquetas"
   ]
  },
  {
   "cell_type": "code",
   "execution_count": 8,
   "metadata": {},
   "outputs": [
    {
     "name": "stdout",
     "output_type": "stream",
     "text": [
      "POS-tagging\n",
      "Las el DET det\n",
      "empresas empresa NOUN nsubj\n",
      "Apple Apple PROPN appos\n",
      "y y CCONJ cc\n",
      "Del Del ADP case\n",
      "Valle Valle PROPN conj\n",
      "tiene tener VERB advcl\n",
      "muchos mucho DET det\n",
      "clientes cliente NOUN obj\n",
      ", , PUNCT punct\n",
      "wow wow INTJ nsubj\n",
      "! ! PROPN punct\n",
      "estan estar VERB ROOT\n",
      "ubicadas ubicado ADJ obj\n",
      "en en ADP case\n",
      "cercanías cercanía NOUN obl\n",
      "del del ADP case\n",
      "valle valle NOUN nmod\n",
      "en en ADP case\n",
      "donde donde PRON obl\n",
      "vivo vivir VERB acl\n",
      ". . PUNCT punct\n"
     ]
    }
   ],
   "source": [
    "doc = nlp(\"Las empresas Apple y Del Valle tiene muchos clientes, wow! estan ubicadas en cercanías del valle en donde vivo.\")\n",
    "\n",
    "print('POS-tagging')\n",
    "for token in doc:\n",
    "    print(token.text, token.lemma_, token.pos_, token.dep_)"
   ]
  },
  {
   "cell_type": "markdown",
   "metadata": {},
   "source": []
  },
  {
   "cell_type": "code",
   "execution_count": null,
   "metadata": {},
   "outputs": [],
   "source": [
    "NER_DICT = {\n",
    "    \"PER\": \"La oración se refiere a una persona.\",\n",
    "    \"LOC\": \"La oración se refiere a un lugar.\",\n",
    "    \"ORG\": \"La oración se refiere a una organización.\",\n",
    "    \"DATE\": \"La oración se refiere a una fecha o periodo de tiempo.\",\n",
    "    \"TIME\": \"La oración se refiere a un momento específico en el tiempo.\",\n",
    "    \"MISC\": \"La oración incluye información variada o miscelánea.\",\n",
    "    \"NUM\": \"La oración incluye números o valores numéricos.\",\n",
    "    \"MONEY\": \"La oración incluye referencias a dinero o valores monetarios.\",\n",
    "    \"PERCENT\": \"La oración incluye porcentajes o proporciones.\",\n",
    "    \"ORDINAL\": \"La oración incluye números ordinales que indican posición.\",\n",
    "    \"CARDINAL\": \"La oración incluye números cardinales que indican cantidad.\",\n",
    "    \"EVENT\": \"La oración se refiere a un evento específico.\",\n",
    "    \"LANGUAGE\": \"La oración incluye referencia a un idioma.\",\n",
    "    \"PRODUCT\": \"La oración se refiere a un producto o artículo específico.\",\n",
    "    \"LAW\": \"La oración incluye referencia a una ley o legislación.\",\n",
    "    \"NORP\": \"La oración se refiere a un grupo étnico, nacionalidad, o afiliación política.\",\n",
    "    \"FAC\": \"La oración se refiere a una instalación o construcción.\",\n",
    "    \"GPE\": \"La oración se refiere a una entidad geopolítica, como países, ciudades, o regiones.\",\n",
    "    \"WORK_OF_ART\": \"La oración menciona una obra artística o literaria.\",\n",
    "    \"QUANTITY\": \"La oración incluye referencias a cantidades o medidas.\",\n",
    "    \"PERCENT\": \"La oración incluye porcentajes o proporciones.\",\n",
    "    \"TITLE\": \"La oración incluye el título de una persona o documento.\",\n",
    "    \"EMAIL\": \"La oración incluye una dirección de correo electrónico.\",\n",
    "    \"URL\": \"La oración incluye una dirección web o URL.\",\n",
    "}\n",
    "\n",
    "oraciones = {\n",
    "    \"Oracion 1\": \"Albert Einstein fue un fisico teorico nacido en Aelemania\",\n",
    "    \"Oracion 1\": \"Albert Einstein fue un fisico teorico nacido en Aelemania\",\n",
    "    \"Oracion 1\": \"Albert Einstein fue un fisico teorico nacido en Aelemania\",\n",
    "    \n",
    "}"
   ]
  }
 ],
 "metadata": {
  "kernelspec": {
   "display_name": "Python 3",
   "language": "python",
   "name": "python3"
  },
  "language_info": {
   "codemirror_mode": {
    "name": "ipython",
    "version": 3
   },
   "file_extension": ".py",
   "mimetype": "text/x-python",
   "name": "python",
   "nbconvert_exporter": "python",
   "pygments_lexer": "ipython3",
   "version": "3.11.0"
  }
 },
 "nbformat": 4,
 "nbformat_minor": 2
}
