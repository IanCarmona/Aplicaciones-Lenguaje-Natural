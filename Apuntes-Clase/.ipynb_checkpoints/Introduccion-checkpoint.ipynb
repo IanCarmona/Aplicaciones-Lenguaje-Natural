{
 "cells": [
  {
   "attachments": {},
   "cell_type": "markdown",
   "id": "6cbb51e2",
   "metadata": {},
   "source": [
    "# INTRODUCCION\n",
    "## Tokenizacion\n",
    "\n",
    "Es el proceso de dividir un texto en unidades mas pequeñas y manejables, llamadas \"tokens\"\n",
    "\n",
    "## Normalizacion\n",
    "\n",
    "Tiene como objetivo homogenizar el texto para facilitar procesamiento y analisis\n",
    "\n",
    "\n",
    "    *De mayusculas a minusculas\n",
    "    *Eliminacion de puntuacion\n",
    "    *Eliminar acentos\n",
    "    \n",
    "## Lematizacion\n",
    "\n",
    "    Lematizar trabajando Stemming\n",
    "\n",
    "    Trabajar             trabaj\n",
    "\n",
    "Lematizar es mas costoso comptacional y se usa cuando queremos concervar su raiz\n",
    "    \n",
    "    El gato caza al raton\n",
    "    El gato cazar al raton\n",
    "\n",
    "Stemming es mas rapido "
   ]
  },
  {
   "cell_type": "code",
   "execution_count": null,
   "id": "c4fed203",
   "metadata": {},
   "outputs": [],
   "source": []
  },
  {
   "cell_type": "code",
   "execution_count": null,
   "id": "cc1bc1ce",
   "metadata": {},
   "outputs": [],
   "source": []
  }
 ],
 "metadata": {
  "kernelspec": {
   "display_name": "Python 3 (ipykernel)",
   "language": "python",
   "name": "python3"
  },
  "language_info": {
   "codemirror_mode": {
    "name": "ipython",
    "version": 3
   },
   "file_extension": ".py",
   "mimetype": "text/x-python",
   "name": "python",
   "nbconvert_exporter": "python",
   "pygments_lexer": "ipython3",
   "version": "3.11.5"
  }
 },
 "nbformat": 4,
 "nbformat_minor": 5
}
