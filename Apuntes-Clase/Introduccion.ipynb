{
 "cells": [
  {
   "cell_type": "markdown",
   "id": "6cbb51e2",
   "metadata": {},
   "source": [
    "# INTRODUCCION\n",
    "## Tokenizacion\n",
    "\n",
    "Es el proceso de dividir un texto en unidades mas pequeñas y manejables, llamadas \"tokens\"\n",
    "\n",
    "## Normalizacion\n",
    "\n",
    "Tiene como objetivo homogenizar el texto para facilitar procesamiento y analisis\n",
    "\n",
    "\n",
    "    *De mayusculas a minusculas\n",
    "    *Eliminacion de puntuacion\n",
    "    *Eliminar acentos\n",
    "    \n",
    "## Lematizacion\n",
    "\n",
    "    Lematizar trabajando Stemming\n",
    "\n",
    "    Trabajar             trabaj\n",
    "\n",
    "Lematizar es mas costoso comptacional y se usa cuando queremos concervar su raiz\n",
    "    \n",
    "    El gato caza al raton\n",
    "    El gato cazar al raton\n",
    "\n",
    "Stemming es mas rapido \n",
    "\n",
    "\n",
    "# Retrieva 1\n",
    "\n",
    "## Recuperacion de documentos\n",
    "\n",
    "Falta de __Agua__ -> Hace falta __agua__ en la __CDMX__, esta escazes deja mal al gobierno en todo el pais la cosa esta fea\n",
    "\n",
    "Agua Cutzamala -> El cutzamala se esta secando ya no hay abasto de liquido vital en la casa\n",
    "\n",
    "Desabasto __CDMX__ -> En la __CDMX__ ya no hay servisios suficientes\n",
    "\n",
    "Tlaloc no abandona a CDMX -> En mi CDMX me estoy qudando sin __agua__ y no me puedo bañar y necesito __agua__ la vida no es bella en veces me pongo triste\n",
    "\n",
    "__|Agua CDMX|__ ->  NOTA: Buscar Esto es ineficiente porque no me regresa todos los documentos relacionados con el agua \n",
    "\n",
    "## Term Frequency (TF)\n",
    "\n",
    "del ejemplo anteriorcuantas veces aparecen las palabras en el documento:\n",
    "\n"
   ]
  },
  {
   "cell_type": "code",
   "execution_count": 2,
   "id": "23f7b53a-ed9f-47de-9f74-72d233dad249",
   "metadata": {},
   "outputs": [
    {
     "name": "stdout",
     "output_type": "stream",
     "text": [
      "      1  2  3  4\n",
      "agua  2  1  0  2\n",
      "CDMX  1  0  1  1\n",
      "en    1  1  1  2\n",
      "la    2  1  0  1\n",
      "no    0  1  1  2\n"
     ]
    }
   ],
   "source": [
    "import pandas as pd\n",
    "\n",
    "data = {\n",
    "    '1': [2, 1, 1, 2, 0],\n",
    "    '2': [1, 0, 1, 1, 1],\n",
    "    '3': [0, 1, 1, 0, 1],\n",
    "    '4': [2, 1, 2, 1, 2]\n",
    "}\n",
    "\n",
    "index = ['agua', 'CDMX', 'en', 'la', 'no']\n",
    "\n",
    "df = pd.DataFrame(data, index=index)\n",
    "print(df)\n"
   ]
  },
  {
   "cell_type": "markdown",
   "id": "4e034c33-c0db-4c56-81f4-55b48d0bdaff",
   "metadata": {},
   "source": [
    "\n",
    "__FORMULA__ -> TF(t, d) = cantidad de t en d / total de terminos en d\n",
    "\n",
    "## Inverse Dcument Frequency (IDF)\n",
    "\n",
    "__FORMULA__ -> IDF(t) = log(Numero de documentos / df )\n",
    "\n",
    "## TF-IDF\n",
    "\n",
    "__FORMULA__ -> tfidf() = TF * IDF\n"
   ]
  }
 ],
 "metadata": {
  "kernelspec": {
   "display_name": "Python 3 (ipykernel)",
   "language": "python",
   "name": "python3"
  },
  "language_info": {
   "codemirror_mode": {
    "name": "ipython",
    "version": 3
   },
   "file_extension": ".py",
   "mimetype": "text/x-python",
   "name": "python",
   "nbconvert_exporter": "python",
   "pygments_lexer": "ipython3",
   "version": "3.11.5"
  }
 },
 "nbformat": 4,
 "nbformat_minor": 5
}
