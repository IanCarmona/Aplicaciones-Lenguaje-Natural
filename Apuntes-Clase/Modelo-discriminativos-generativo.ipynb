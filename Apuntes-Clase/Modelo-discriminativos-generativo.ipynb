{
 "cells": [
  {
   "cell_type": "markdown",
   "metadata": {},
   "source": [
    "### Discriminatico vs Generativos \n",
    "\n",
    "Discriminativo: va de las caracteristicas a las clases\n",
    "\n",
    "Generativo: va de las clase a las caracteristicas \n",
    "\n"
   ]
  },
  {
   "cell_type": "markdown",
   "metadata": {},
   "source": [
    "### Ejercicio Gramatical \n",
    "\n"
   ]
  },
  {
   "cell_type": "markdown",
   "metadata": {},
   "source": []
  }
 ],
 "metadata": {
  "language_info": {
   "name": "python"
  }
 },
 "nbformat": 4,
 "nbformat_minor": 2
}
